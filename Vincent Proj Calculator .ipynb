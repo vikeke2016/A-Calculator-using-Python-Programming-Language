{
 "cells": [
  {
   "cell_type": "code",
   "execution_count": null,
   "id": "95ee8e89-f208-4cdf-90e7-4a476a7a092d",
   "metadata": {},
   "outputs": [
    {
     "name": "stdin",
     "output_type": "stream",
     "text": [
      "Enter the first number:  2\n"
     ]
    },
    {
     "name": "stdout",
     "output_type": "stream",
     "text": [
      "+\n",
      "-\n",
      "*\n",
      "/\n"
     ]
    },
    {
     "name": "stdin",
     "output_type": "stream",
     "text": [
      "Pick an operation:  +\n",
      "Enter the next number:  2\n"
     ]
    },
    {
     "name": "stdout",
     "output_type": "stream",
     "text": [
      "2.0 + 2.0 = 4.0\n"
     ]
    }
   ],
   "source": [
    "#############################################################################################################################\n",
    "#                                            MR VINCENT IKEKE                                                               #\n",
    "#############################################################################################################################\n",
    "\n",
    "def add(n1, n2):\n",
    "    return n1 + n2\n",
    "\n",
    "def subtract(n1, n2):\n",
    "    return n1 - n2\n",
    "\n",
    "def multiply(n1, n2):\n",
    "    return n1 * n2\n",
    "\n",
    "def divide(n1, n2):\n",
    "    return n1 / n2 if n2 != 0 else \"Error! Division by zero.\"\n",
    "\n",
    "operations = {\n",
    "    \"+\": add,\n",
    "    \"-\": subtract,\n",
    "    \"*\": multiply,\n",
    "    \"/\": divide\n",
    "}\n",
    "\n",
    "def calculator():\n",
    "    num1 = float(input(\"Enter the first number: \"))\n",
    "    \n",
    "    for symbol in operations:\n",
    "        print(symbol)\n",
    "        \n",
    "    should_continue = True\n",
    "\n",
    "    while should_continue:\n",
    "        operation_symbol = input(\"Pick an operation: \")\n",
    "        num2 = float(input(\"Enter the next number: \"))\n",
    "        \n",
    "        calculation_function = operations.get(operation_symbol)\n",
    "        if calculation_function:\n",
    "            answer = calculation_function(num1, num2)\n",
    "            print(f\"{num1} {operation_symbol} {num2} = {answer}\")\n",
    "\n",
    "            if input(f\"Type 'y' to continue calculating with {answer}, or 'n' to start a new calculation: \") == 'y':\n",
    "                num1 = answer\n",
    "            else:\n",
    "                should_continue = False\n",
    "                calculator()\n",
    "        else:\n",
    "            print(\"Invalid operation symbol. Please try again.\")\n",
    "            \n",
    "calculator()"
   ]
  },
  {
   "cell_type": "code",
   "execution_count": null,
   "id": "f7af2a75-2f81-4afc-b10b-e279046d6c82",
   "metadata": {},
   "outputs": [],
   "source": []
  }
 ],
 "metadata": {
  "kernelspec": {
   "display_name": "Python 3 (ipykernel)",
   "language": "python",
   "name": "python3"
  },
  "language_info": {
   "codemirror_mode": {
    "name": "ipython",
    "version": 3
   },
   "file_extension": ".py",
   "mimetype": "text/x-python",
   "name": "python",
   "nbconvert_exporter": "python",
   "pygments_lexer": "ipython3",
   "version": "3.11.7"
  }
 },
 "nbformat": 4,
 "nbformat_minor": 5
}
